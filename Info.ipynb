{
 "cells": [
  {
   "cell_type": "code",
   "execution_count": 44,
   "id": "3c32b4ce-4b9d-4a4c-8709-3099ffc684eb",
   "metadata": {},
   "outputs": [
    {
     "name": "stdout",
     "output_type": "stream",
     "text": [
      "Data saved to professors_info.txt\n"
     ]
    }
   ],
   "source": [
    "import requests\n",
    "from bs4 import BeautifulSoup\n",
    "from tabulate import tabulate\n",
    "\n",
    "# Define the URL of the faculty directory page\n",
    "url = \"https://www.cs.princeton.edu/people/faculty\"\n",
    "\n",
    "# Send an HTTP GET request to the faculty directory page\n",
    "response = requests.get(url)\n",
    "\n",
    "# Check if the request was successful (status code 200)\n",
    "if response.status_code == 200:\n",
    "    # Parse the HTML content of the page\n",
    "    soup = BeautifulSoup(response.text, \"html.parser\")\n",
    "\n",
    "    # Find all the professor name elements\n",
    "    prof_name_elements = soup.find_all('h2', class_='person-name')\n",
    "\n",
    "    # Find all the professor title elements\n",
    "    prof_title_elements = soup.find_all('div', class_='person-title')\n",
    "\n",
    "    # Find all the professor homepage link elements\n",
    "    prof_links_elements = soup.find_all('div', class_='person-links')\n",
    "\n",
    "    # Find all the professor research area elements\n",
    "    prof_research_elements = soup.find_all('p', class_='person-research-interests')\n",
    "\n",
    "    # Extract professor names, titles, homepage links, and research areas\n",
    "    professor_data = []\n",
    "    for name, title, links, research in zip(\n",
    "        prof_name_elements, prof_title_elements, prof_links_elements, prof_research_elements\n",
    "    ):\n",
    "        professor_name = name.a.text.strip()\n",
    "        professor_title = title.text.strip()\n",
    "\n",
    "        # Extract homepage link from the first anchor within person-links div\n",
    "        homepage_link = links.find('a', href=True)\n",
    "        if homepage_link:\n",
    "            homepage_url = homepage_link['href']\n",
    "        else:\n",
    "            homepage_url = \"Homepage link not available\"\n",
    "\n",
    "        # Extract research areas from the research element\n",
    "        research_areas = research.span.next_sibling.strip()\n",
    "\n",
    "        professor_data.append((professor_name, professor_title, homepage_url, research_areas))\n",
    "\n",
    "    # Create a table with headers and data\n",
    "    table = tabulate(\n",
    "        professor_data,\n",
    "        headers=[\"Professor Name\", \"Professor Title\", \"Homepage URL\", \"Research Areas\"],\n",
    "        tablefmt=\"pipe\",\n",
    "    )\n",
    "\n",
    "    # Save the table to a text file\n",
    "    with open(\"professors_info.txt\", \"w\") as file:\n",
    "        file.write(table)\n",
    "\n",
    "    print(\"Data saved to professors_info.txt\")\n",
    "else:\n",
    "    print(f\"Failed to retrieve data from the faculty directory page at {url}\")\n"
   ]
  },
  {
   "cell_type": "code",
   "execution_count": null,
   "id": "ce8a4849-0fb3-4562-a2e6-6849834201b3",
   "metadata": {},
   "outputs": [],
   "source": []
  }
 ],
 "metadata": {
  "kernelspec": {
   "display_name": "Python 3 (ipykernel)",
   "language": "python",
   "name": "python3"
  },
  "language_info": {
   "codemirror_mode": {
    "name": "ipython",
    "version": 3
   },
   "file_extension": ".py",
   "mimetype": "text/x-python",
   "name": "python",
   "nbconvert_exporter": "python",
   "pygments_lexer": "ipython3",
   "version": "3.11.0"
  }
 },
 "nbformat": 4,
 "nbformat_minor": 5
}
