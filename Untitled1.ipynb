{
 "cells": [
  {
   "cell_type": "code",
   "execution_count": 5,
   "id": "0ba85ef6-ad7e-4a67-8e00-1dbe41774565",
   "metadata": {},
   "outputs": [
    {
     "name": "stdout",
     "output_type": "stream",
     "text": [
      "Enter String:\n"
     ]
    },
    {
     "name": "stdin",
     "output_type": "stream",
     "text": [
      " karaan pateel\n"
     ]
    },
    {
     "name": "stdout",
     "output_type": "stream",
     "text": [
      "Compressed String is:\n",
      "kara2n pate2l\n"
     ]
    }
   ],
   "source": [
    "def compress_message(msg):\n",
    "    compressed_msg = \"\"  \n",
    "    char_count = 1  \n",
    "    prev_char = msg[0]  \n",
    "\n",
    "   \n",
    "    for char in msg[1:]:\n",
    "        if char == prev_char:\n",
    "            char_count += 1\n",
    "        else:\n",
    "            if char_count > 1:\n",
    "                compressed_msg += prev_char + str(char_count)\n",
    "            else:\n",
    "                compressed_msg += prev_char\n",
    "            char_count = 1\n",
    "        prev_char = char\n",
    "\n",
    "    \n",
    "    if char_count > 1:\n",
    "        compressed_msg += prev_char + str(char_count)\n",
    "    else:\n",
    "        compressed_msg += prev_char\n",
    "\n",
    "    return compressed_msg\n",
    "\n",
    "print('Enter String:')\n",
    "user_input_msg = input()\n",
    "\n",
    "\n",
    "compressed_output = compress_message(user_input_msg)\n",
    "print('Compressed String is:')\n",
    "print(compressed_output)\n"
   ]
  },
  {
   "cell_type": "code",
   "execution_count": null,
   "id": "fed75e17-e669-4ca3-a0f1-c53bc48d9e67",
   "metadata": {},
   "outputs": [],
   "source": []
  }
 ],
 "metadata": {
  "kernelspec": {
   "display_name": "Python 3 (ipykernel)",
   "language": "python",
   "name": "python3"
  },
  "language_info": {
   "codemirror_mode": {
    "name": "ipython",
    "version": 3
   },
   "file_extension": ".py",
   "mimetype": "text/x-python",
   "name": "python",
   "nbconvert_exporter": "python",
   "pygments_lexer": "ipython3",
   "version": "3.11.0"
  }
 },
 "nbformat": 4,
 "nbformat_minor": 5
}
